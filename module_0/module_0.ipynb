{
 "cells": [
  {
   "cell_type": "code",
   "execution_count": null,
   "metadata": {},
   "outputs": [],
   "source": [
    "import numpy as np"
   ]
  },
  {
   "cell_type": "code",
   "execution_count": null,
   "metadata": {},
   "outputs": [],
   "source": [
    "def score_game(game_core):\n",
    "    '''Запускаем игру 1000 раз, чтобы узнать, как быстро игра угадывает число'''\n",
    "    count_ls = []\n",
    "    np.random.seed(1)  # фиксируем RANDOM SEED, чтобы ваш эксперимент был воспроизводим!\n",
    "    random_array = np.random.randint(1,101, size=(1000))\n",
    "    for number in random_array:\n",
    "        count_ls.append(game_core(number))\n",
    "    print(\"Computing average ...\")\n",
    "    score = int(np.mean(count_ls))\n",
    "    print(f\"Ваш алгоритм угадывает число в среднем за {score} попыток\")\n",
    "    return(score)"
   ]
  },
  {
   "cell_type": "code",
   "execution_count": null,
   "metadata": {},
   "outputs": [],
   "source": [
    "# функция, которая реализует логику отгадывания \n",
    "def game_core (number, min_val = 1, max_val = 101):\n",
    "    count = 1                            # счетчик попыток\n",
    "    predict = (min_val + max_val)//2     # начинаем предполагать с медианы диапазона всех возможных загаданных чисел\n",
    "    while number != predict:             # стартует цикл, выполняется, пока не угадаем\n",
    "        count += 1                       # увеличиваем счетчик\n",
    "        if predict > number:             # если предполагаемое число оказалось больше, уменьшаем верхнюю границу диапазона\n",
    "            max_val = predict\n",
    "            predict = (min_val + max_val)//2  # предполагаем медиану нового диапазона\n",
    "        elif predict < number:           # есои предполагаемое число меньше, увеличиваем нижнюю границу диапазона\n",
    "            min_val = predict\n",
    "            predict = (min_val + max_val)//2\n",
    "    return(count)"
   ]
  },
  {
   "cell_type": "code",
   "execution_count": null,
   "metadata": {},
   "outputs": [],
   "source": [
    "min_val = 1                          # здесь можно изменить диапазон отгадываемого числа\n",
    "max_val = 101\n",
    "number = np.random.randint(min_val,max_val)    # загадали число\n",
    "print (\"Загадано число от 1 до 100\")\n",
    "\n",
    "count = game_core(number)\n",
    "        \n",
    "print (f\"Вы угадали число {number} за {count} попыток.\")"
   ]
  },
  {
   "cell_type": "code",
   "execution_count": null,
   "metadata": {},
   "outputs": [],
   "source": [
    "score_game(game_core)"
   ]
  }
 ],
 "metadata": {
  "kernelspec": {
   "display_name": "Python 3",
   "language": "python",
   "name": "python3"
  },
  "language_info": {
   "codemirror_mode": {
    "name": "ipython",
    "version": 3
   },
   "file_extension": ".py",
   "mimetype": "text/x-python",
   "name": "python",
   "nbconvert_exporter": "python",
   "pygments_lexer": "ipython3",
   "version": "3.7.6"
  }
 },
 "nbformat": 4,
 "nbformat_minor": 4
}
